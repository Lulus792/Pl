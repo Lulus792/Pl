{
 "cells": [
  {
   "cell_type": "code",
   "execution_count": null,
   "metadata": {},
   "outputs": [],
   "source": [
    "from redpitaya.overlay.mercury import mercury as overlay\n",
    "import numpy as np\n",
    "import time\n",
    "import os\n",
    "\n",
    "class SchwarzerStrahler:\n",
    "    def __init__(this, messanzahl:int = 10000):\n",
    "        this.trig = messanzahl;\n",
    "        this.fpga = overlay();\n",
    "        this.osc = this.fpga.osc(0, 20.0)\n",
    "\n",
    "        this.osc.decimation = 1\n",
    "        this.osc.trigger_pre = 0\n",
    "        this.osc.trigger_post = this.trig\n",
    "\n",
    "        this.osc.trig_src = 0\n",
    "\n",
    "        this.gpio = this.fpga.gpio\n",
    "        this.init_pin = this.gpio(\"n\", 0, \"out\")\n",
    "        this.step_finished = this.gpio(\"n\", 1, \"in\")\n",
    "        this.do_step = this.gpio(\"n\", 2, \"out\")\n",
    "        this.endswitch_pin = this.gpio(\"n\", 3, \"in\")\n",
    "\n",
    "        # init func from script 457\n",
    "    def init(this):\n",
    "        this.init_pin.write(True)\n",
    "        start = time.time()\n",
    "        while this.step_finished.read() == False:\n",
    "            pass\n",
    "        this.init_pin.write(False)\n",
    "\n",
    "    def measure(this):\n",
    "        this.osc.reset()\n",
    "        this.osc.start()\n",
    "        this.osc.trigger()\n",
    "        while this.osc.status_run():\n",
    "            pass\n",
    "        return this.osc.data(this.trig)\n",
    "\n",
    "    def waitForStep(this):\n",
    "        this.do_step.write(True)\n",
    "        start = time.time()\n",
    "        while this.step_finished.read() == False:\n",
    "            pass\n",
    "        this.do_step.write(False)\n",
    "\n",
    "    def run(this, filename:str):\n",
    "        with open(filename, 'w', encoding='utf-8', buffering=1) as file:\n",
    "            file.write(\"Schritt,Messwert,Offset\\n\")\n",
    "            \n",
    "            while endswitch_pin.read() == False:\n",
    "                file.write('{},{}\\n'.format(i, np.mean(this.measure())))\n",
    "                this.waitForStep()"
   ]
  },
  {
   "cell_type": "code",
   "execution_count": null,
   "metadata": {},
   "outputs": [],
   "source": [
    "schwarzer_strahler = SchwarzerStrahler()"
   ]
  },
  {
   "cell_type": "code",
   "execution_count": null,
   "metadata": {},
   "outputs": [],
   "source": [
    "schwarzer_strahler.init()"
   ]
  },
  {
   "cell_type": "code",
   "execution_count": null,
   "metadata": {},
   "outputs": [],
   "source": [
    "schwarzer_strahler.run('filename')"
   ]
  },
  {
   "cell_type": "markdown",
   "metadata": {},
   "source": [
    "<h1>Plot the result</h1>"
   ]
  },
  {
   "cell_type": "code",
   "execution_count": null,
   "metadata": {},
   "outputs": [],
   "source": [
    "import matplotlib.pyplot as plt\n",
    "import pandas as pd\n",
    "\n",
    "file = pd.read_csv('filename.csv', delimiter=',')\n",
    "x = file['Schritt']\n",
    "y = file['Messwert']\n",
    "\n",
    "plt.plot(x, y, label='Messwerte')\n",
    "\n",
    "plt.xlabel('Schritte')\n",
    "plt.ylabel('Messwerte')\n",
    "\n",
    "plt.legend()\n",
    "plt.show()"
   ]
  }
 ],
 "metadata": {
  "language_info": {
   "name": "python"
  }
 },
 "nbformat": 4,
 "nbformat_minor": 2
}
